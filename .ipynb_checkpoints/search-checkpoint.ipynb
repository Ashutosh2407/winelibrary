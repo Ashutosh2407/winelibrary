{
 "cells": [
  {
   "cell_type": "code",
   "execution_count": 3,
   "id": "523d962b",
   "metadata": {},
   "outputs": [],
   "source": [
    "import numpy as np \n",
    "import pandas as pd\n",
    "import re\n",
    "import nltk\n",
    "from nltk.corpus import stopwords\n",
    "from nltk.stem.snowball import SnowballStemmer\n",
    "from sklearn.feature_extraction.text import CountVectorizer"
   ]
  },
  {
   "cell_type": "code",
   "execution_count": 4,
   "id": "a891335c",
   "metadata": {},
   "outputs": [],
   "source": [
    "path = \"/Users/ashutoshwagh/Desktop/projects/wines/winedata.xlsx\""
   ]
  },
  {
   "cell_type": "code",
   "execution_count": null,
   "id": "f950176b",
   "metadata": {},
   "outputs": [],
   "source": []
  },
  {
   "cell_type": "code",
   "execution_count": 5,
   "id": "9302fa4e",
   "metadata": {},
   "outputs": [],
   "source": [
    "df = pd.read_excel(path)"
   ]
  },
  {
   "cell_type": "code",
   "execution_count": 7,
   "id": "d805a61d",
   "metadata": {},
   "outputs": [],
   "source": [
    "df[\"text_reviews\"] = df['description']"
   ]
  },
  {
   "cell_type": "code",
   "execution_count": 8,
   "id": "33417f6c",
   "metadata": {},
   "outputs": [
    {
     "data": {
      "text/plain": [
       "0       Soft, dry and flashy, this has pie-filling fla...\n",
       "1       Smells and tastes overoaked, with toothpicky v...\n",
       "2       A soft, very open, lightweight wine, that has ...\n",
       "3       Exceptionally fine. Effortlessly combines the ...\n",
       "4       Fleshy peach and melon aromas comme off as chu...\n",
       "                              ...                        \n",
       "1016    Nutty and melon-scented, this is a medium-bodi...\n",
       "1017    This rich, opulent and amazingly intense Chard...\n",
       "1018    The vintage was particularly successful for Pa...\n",
       "1019    The style is full in the mouth, showing vanill...\n",
       "1020    This is a strong, oaky, ripe Chardonnay, grown...\n",
       "Name: text_reviews, Length: 1021, dtype: object"
      ]
     },
     "execution_count": 8,
     "metadata": {},
     "output_type": "execute_result"
    }
   ],
   "source": [
    "df[\"text_reviews\"]"
   ]
  },
  {
   "cell_type": "code",
   "execution_count": 9,
   "id": "0c05a27e",
   "metadata": {},
   "outputs": [
    {
     "name": "stderr",
     "output_type": "stream",
     "text": [
      "[nltk_data] Downloading package stopwords to\n",
      "[nltk_data]     /Users/ashutoshwagh/nltk_data...\n",
      "[nltk_data]   Package stopwords is already up-to-date!\n"
     ]
    }
   ],
   "source": [
    "nltk.download(\"stopwords\")\n",
    "stopwords=stopwords.words('english')\n"
   ]
  },
  {
   "cell_type": "code",
   "execution_count": 10,
   "id": "84570dd3",
   "metadata": {},
   "outputs": [],
   "source": [
    "def text_process(text):\n",
    "    text = re.sub('[^a-z\\s]','', text.lower())\n",
    "    text = [word for word in text.split(\" \") if word not in stopwords]\n",
    "    return \" \".join(text)"
   ]
  },
  {
   "cell_type": "code",
   "execution_count": 11,
   "id": "20e4dc6c",
   "metadata": {},
   "outputs": [],
   "source": [
    "df['text_reviews'] = df['text_reviews'].apply(text_process)"
   ]
  },
  {
   "cell_type": "code",
   "execution_count": 12,
   "id": "0ae4a94f",
   "metadata": {},
   "outputs": [],
   "source": [
    "stemmer = SnowballStemmer(\"english\")\n",
    "analize = CountVectorizer().build_analyzer()"
   ]
  },
  {
   "cell_type": "code",
   "execution_count": 13,
   "id": "63f6ea84",
   "metadata": {},
   "outputs": [],
   "source": [
    "def stem_text(text):\n",
    "    return (stemmer.stem(word) for word in analize(text))"
   ]
  },
  {
   "cell_type": "code",
   "execution_count": 14,
   "id": "cf67f93b",
   "metadata": {},
   "outputs": [],
   "source": [
    "count = CountVectorizer(analyzer = stem_text)"
   ]
  },
  {
   "cell_type": "code",
   "execution_count": 15,
   "id": "119157bf",
   "metadata": {},
   "outputs": [],
   "source": [
    "\n",
    "count_matrix = count.fit_transform(df['text_reviews'])"
   ]
  },
  {
   "cell_type": "code",
   "execution_count": 16,
   "id": "62d3b799",
   "metadata": {},
   "outputs": [
    {
     "name": "stdout",
     "output_type": "stream",
     "text": [
      "  (0, 2535)\t1\n",
      "  (0, 817)\t1\n",
      "  (0, 1043)\t1\n",
      "  (0, 2030)\t1\n",
      "  (0, 1046)\t1\n",
      "  (0, 264)\t1\n",
      "  (0, 469)\t1\n",
      "  (0, 1276)\t1\n",
      "  (0, 55)\t1\n",
      "  (0, 2525)\t1\n",
      "  (0, 2583)\t1\n",
      "  (0, 1033)\t1\n",
      "  (0, 2769)\t1\n",
      "  (0, 2698)\t1\n",
      "  (0, 1947)\t1\n",
      "  (0, 2622)\t1\n",
      "  (1, 469)\t1\n",
      "  (1, 2525)\t1\n",
      "  (1, 2523)\t1\n",
      "  (1, 2779)\t1\n",
      "  (1, 1927)\t1\n",
      "  (1, 2878)\t1\n",
      "  (1, 3015)\t1\n",
      "  (1, 450)\t1\n",
      "  (1, 1842)\t1\n",
      "  :\t:\n",
      "  (1020, 456)\t1\n",
      "  (1020, 386)\t1\n",
      "  (1020, 2466)\t1\n",
      "  (1020, 1520)\t1\n",
      "  (1020, 2293)\t1\n",
      "  (1020, 1983)\t1\n",
      "  (1020, 1863)\t1\n",
      "  (1020, 2036)\t1\n",
      "  (1020, 1387)\t1\n",
      "  (1020, 660)\t1\n",
      "  (1020, 1557)\t1\n",
      "  (1020, 2776)\t1\n",
      "  (1020, 1964)\t1\n",
      "  (1020, 1514)\t1\n",
      "  (1020, 2688)\t1\n",
      "  (1020, 242)\t1\n",
      "  (1020, 2669)\t1\n",
      "  (1020, 1763)\t1\n",
      "  (1020, 3091)\t1\n",
      "  (1020, 1237)\t1\n",
      "  (1020, 798)\t1\n",
      "  (1020, 1647)\t1\n",
      "  (1020, 556)\t1\n",
      "  (1020, 1704)\t1\n",
      "  (1020, 1537)\t1\n"
     ]
    }
   ],
   "source": [
    "print(count_matrix)"
   ]
  },
  {
   "cell_type": "code",
   "execution_count": 17,
   "id": "8b501a27",
   "metadata": {},
   "outputs": [],
   "source": [
    "from sklearn.feature_extraction.text import TfidfTransformer"
   ]
  },
  {
   "cell_type": "code",
   "execution_count": 18,
   "id": "6635a22e",
   "metadata": {},
   "outputs": [],
   "source": [
    "tf_idf = TfidfTransformer()"
   ]
  },
  {
   "cell_type": "code",
   "execution_count": 19,
   "id": "a8741528",
   "metadata": {},
   "outputs": [],
   "source": [
    "train_tfidf = tf_idf.fit_transform(count_matrix)"
   ]
  },
  {
   "cell_type": "code",
   "execution_count": 20,
   "id": "7609de25",
   "metadata": {},
   "outputs": [
    {
     "name": "stdout",
     "output_type": "stream",
     "text": [
      "(1021, 3233)\n"
     ]
    }
   ],
   "source": [
    "print(train_tfidf.shape)"
   ]
  },
  {
   "cell_type": "code",
   "execution_count": 53,
   "id": "c3707d39",
   "metadata": {},
   "outputs": [],
   "source": [
    "#Return top 3 most relative\n",
    "from sklearn.metrics.pairwise import cosine_similarity\n",
    "def search(query):\n",
    "    query = text_process(query)\n",
    "    query_matrix = count.transform([query])\n",
    "    query_tfidf = tf_idf.transform(query_matrix)\n",
    "    sim_score = cosine_similarity(query_tfidf,train_tfidf)\n",
    "    sorted_indexes = np.argsort(sim_score).tolist()\n",
    "    return sorted_indexes[0][-3:]\n",
    "    \n",
    "    \n",
    "    "
   ]
  },
  {
   "cell_type": "code",
   "execution_count": 54,
   "id": "35102e48",
   "metadata": {},
   "outputs": [
    {
     "name": "stdout",
     "output_type": "stream",
     "text": [
      "[984, 170, 501]\n"
     ]
    }
   ],
   "source": [
    "print(search(\"sweet aroma\"))"
   ]
  },
  {
   "cell_type": "code",
   "execution_count": null,
   "id": "5ed1e0e0",
   "metadata": {},
   "outputs": [],
   "source": []
  }
 ],
 "metadata": {
  "kernelspec": {
   "display_name": "Python 3 (ipykernel)",
   "language": "python",
   "name": "python3"
  },
  "language_info": {
   "codemirror_mode": {
    "name": "ipython",
    "version": 3
   },
   "file_extension": ".py",
   "mimetype": "text/x-python",
   "name": "python",
   "nbconvert_exporter": "python",
   "pygments_lexer": "ipython3",
   "version": "3.11.5"
  }
 },
 "nbformat": 4,
 "nbformat_minor": 5
}
